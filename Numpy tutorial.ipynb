{
 "cells": [
  {
   "cell_type": "markdown",
   "metadata": {},
   "source": [
    "Introduction to numpy.\n",
    "\n",
    "Get more familiar with the library as part of deep learning course.\n"
   ]
  },
  {
   "cell_type": "code",
   "execution_count": 1,
   "metadata": {},
   "outputs": [],
   "source": [
    "import numpy as np"
   ]
  },
  {
   "cell_type": "code",
   "execution_count": 2,
   "metadata": {},
   "outputs": [
    {
     "name": "stdout",
     "output_type": "stream",
     "text": [
      "[ 1  2  3  4  5  6  7  8  9 10]\n",
      "Data type of A: int64\n",
      "[1.  1.1 1.2 1.3 1.4 1.5 1.6 1.7 1.8 1.9 2. ]\n",
      "Data type of B: float64\n",
      "[ 1.          1.47368421  1.94736842  2.42105263  2.89473684  3.36842105\n",
      "  3.84210526  4.31578947  4.78947368  5.26315789  5.73684211  6.21052632\n",
      "  6.68421053  7.15789474  7.63157895  8.10526316  8.57894737  9.05263158\n",
      "  9.52631579 10.        ]\n",
      "Data type of C: float64\n"
     ]
    }
   ],
   "source": [
    "# Create evenly spaced n-dimensional array from 1 to 10,\n",
    "# notice 11 as stop number as this is not included.\n",
    "A = np.arange(1,11,1)\n",
    "print(A)\n",
    "print('Data type of A:', A.dtype)\n",
    "B = np.arange(1., 2.1, 0.1)\n",
    "print(B)\n",
    "print('Data type of B:', B.dtype)\n",
    "\n",
    "# Whereas arange defines the per value step length, linspace \n",
    "# makes an array of the defined number of values spaced equally\n",
    "C = np.linspace(1, 10, num=20)\n",
    "print(C)\n",
    "print ('Data type of C:', C.dtype)\n"
   ]
  },
  {
   "cell_type": "code",
   "execution_count": 3,
   "metadata": {},
   "outputs": [
    {
     "name": "stdout",
     "output_type": "stream",
     "text": [
      "[1. 1. 1. 1. 1.]\n"
     ]
    }
   ],
   "source": [
    "# Try out functions for creating data in np arrays\n",
    "ones = np.ones(5)\n",
    "print(ones)"
   ]
  },
  {
   "cell_type": "code",
   "execution_count": 4,
   "metadata": {},
   "outputs": [
    {
     "name": "stdout",
     "output_type": "stream",
     "text": [
      "[[1. 1. 1. 1. 1.]\n",
      " [1. 1. 1. 1. 1.]]\n",
      "[[[1. 1. 1.]\n",
      "  [1. 1. 1.]]\n",
      "\n",
      " [[1. 1. 1.]\n",
      "  [1. 1. 1.]]]\n",
      "[1. 1. 1.]\n"
     ]
    }
   ],
   "source": [
    "# Create 2 dimensional array of ones. Looks like the dimensions has \n",
    "# to be given as a sequence.\n",
    "twoDimOnes = np.ones((2,5))\n",
    "print(twoDimOnes)\n",
    "threeDimOnes = np.ones((2,2,3))\n",
    "print(threeDimOnes)\n",
    "# Print one dimension\n",
    "print(threeDimOnes[0,0])"
   ]
  },
  {
   "cell_type": "code",
   "execution_count": 5,
   "metadata": {},
   "outputs": [
    {
     "name": "stdout",
     "output_type": "stream",
     "text": [
      "fullTwoDim\n",
      " [[10 10 10]\n",
      " [10 10 10]]\n",
      "ramdomTwoDim:\n",
      " [[0.0320971  0.96222771]\n",
      " [0.25938336 0.91473186]]\n"
     ]
    }
   ],
   "source": [
    "# There are more functions like this: eye (identity matrix), \n",
    "# zeros (all 0)\n",
    "fullTwoDim = np.full((2,3), 10)\n",
    "print('fullTwoDim\\n', fullTwoDim)\n",
    "\n",
    "# Then we have random numbers\n",
    "randomTwoDim = np.random.rand(2,2)\n",
    "print('ramdomTwoDim:\\n', randomTwoDim)"
   ]
  },
  {
   "cell_type": "code",
   "execution_count": 6,
   "metadata": {},
   "outputs": [
    {
     "name": "stdout",
     "output_type": "stream",
     "text": [
      "ndim:  2\n",
      "number of lines: 3\n",
      "indata:\n",
      " [10. 10. 20.]\n",
      "line  0 : [10. 10. 20.]\n",
      "line  1 : [30. 40. 50.]\n",
      "line  2 : [60. 70. 80.]\n",
      "line  1 : [10. 10. 20.]\n",
      "line  2 : [30. 40. 50.]\n",
      "line  3 : [60. 70. 80.]\n"
     ]
    }
   ],
   "source": [
    "# How to read data from file\n",
    "indata = np.genfromtxt('mydata.dat')\n",
    "\n",
    "# To iterate on the indata we have some ways to find out the\n",
    "# sizes of the input matrix: ndim, shape, size\n",
    "print('ndim: ', indata.ndim)\n",
    "\n",
    "# The following list holds the result of the shape of indata.\n",
    "(numlines, valperline) = indata.shape\n",
    "print('number of lines:', numlines)\n",
    "print('indata:\\n', indata[0])\n",
    "\n",
    "# print each line \n",
    "for lnr in range(0, numlines):\n",
    "    print('line ', lnr, ':', indata[lnr])\n",
    "    \n",
    "# Can do the same with a list\n",
    "for lnr in (0, 1, 2):\n",
    "    print ('line ', lnr+1, ':', indata[lnr])"
   ]
  },
  {
   "cell_type": "code",
   "execution_count": 7,
   "metadata": {},
   "outputs": [
    {
     "name": "stdout",
     "output_type": "stream",
     "text": [
      "[[1 2 3]\n",
      " [3 4 6]\n",
      " [7 8 9]]\n",
      "upper left:\n",
      " [[1 2]\n",
      " [3 4]]\n",
      "lower right:\n",
      " [[4 6]\n",
      " [8 9]]\n",
      "column 1:\n",
      " [1 3 7]\n",
      "a > 2\n",
      " [[False False  True]\n",
      " [ True  True  True]\n",
      " [ True  True  True]] \n",
      "Rank aGrThanTwo is  2\n",
      "[3 3 4 6 7 8 9]\n",
      "[3 3 4 6 7 8 9]\n",
      "[3 3 4 6 7 8 9] rank b is  1\n"
     ]
    }
   ],
   "source": [
    "# Create a matrix\n",
    "a = np.array([[1, 2, 3],[3,4,6],[7,8,9]])\n",
    "print(a)\n",
    "# print upper left\n",
    "print('upper left:\\n', a[:2,:2])\n",
    "print('lower right:\\n', a[1:,1:])\n",
    "# Notice index starts at 0\n",
    "print('column 1:\\n', a[:,0])\n",
    "\n",
    "# Using boolean arrays\n",
    "# Create a boolean array by an expression over a, notice the result\n",
    "# is a matrix the same rank as a filled with boolean values\n",
    "aGrThanTwo = (a > 2)\n",
    "print('a > 2\\n', aGrThanTwo, '\\nRank aGrThanTwo is ', aGrThanTwo.ndim)\n",
    "\n",
    "# We can print the values of a for which the expression is true\n",
    "print(a[aGrThanTwo])\n",
    "# Or compact\n",
    "print(a[(a > 2)])\n",
    "b = a[(a > 2)]\n",
    "print(b, 'rank b is ', b.ndim)"
   ]
  },
  {
   "cell_type": "code",
   "execution_count": 8,
   "metadata": {},
   "outputs": [
    {
     "name": "stdout",
     "output_type": "stream",
     "text": [
      "a:\n",
      " [[1 1]\n",
      " [2 2]\n",
      " [3 3]]\n",
      "b:\n",
      " [[5 5]\n",
      " [5 5]\n",
      " [5 5]]\n",
      "a+b=\n",
      " [[6 6]\n",
      " [7 7]\n",
      " [8 8]]\n",
      "np.add(a,b)\n",
      " [[6 6]\n",
      " [7 7]\n",
      " [8 8]]\n",
      "b/5\n",
      " [[1. 1.]\n",
      " [1. 1.]\n",
      " [1. 1.]]\n"
     ]
    }
   ],
   "source": [
    "# Now to mathematical operations on matrixes\n",
    "# Create a couple of matrixes\n",
    "a = np.array([[1,1],[2,2],[3,3]])\n",
    "# b = np.array([[5,5],[5,5],[5,5]])\n",
    "b = np.full((3,2), 5)\n",
    "\n",
    "# These are elemnt vise operations (matching elements in each matrix (requires same rank))\n",
    "print('a:\\n', a)\n",
    "print('b:\\n', b)\n",
    "print('a+b=\\n', a+b)\n",
    "print('np.add(a,b)\\n', np.add(a,b))\n",
    "print('b/5\\n', b/5)"
   ]
  },
  {
   "cell_type": "code",
   "execution_count": 9,
   "metadata": {},
   "outputs": [
    {
     "name": "stdout",
     "output_type": "stream",
     "text": [
      "v1 . v2 =  72\n",
      "magnitude(v1) =  58\n",
      "magnitude_summation(v1) =  58\n",
      "v1 @ v1 =  58\n"
     ]
    }
   ],
   "source": [
    "# Vector operations\n",
    "# Create a couple of vectors\n",
    "v1 = np.array([2,2,3,3,4,4])\n",
    "v2 = np.array([4,4,4,4,4,4])\n",
    "print('v1 . v2 = ', np.dot(v1,v2))\n",
    "print('magnitude(v1) = ', np.dot(v1,v1))\n",
    "sum = 0\n",
    "for element in v1:\n",
    "    sum += element * element\n",
    "    \n",
    "print('magnitude_summation(v1) = ', sum)\n",
    "\n",
    "print('v1 @ v1 = ', v1 @ v1)"
   ]
  },
  {
   "cell_type": "code",
   "execution_count": 10,
   "metadata": {},
   "outputs": [
    {
     "name": "stdout",
     "output_type": "stream",
     "text": [
      "[[ 0  1  2  3  4]\n",
      " [10 11 12 13 14]\n",
      " [20 21 22 23 24]\n",
      " [30 31 32 33 34]\n",
      " [40 41 42 43 44]]\n"
     ]
    },
    {
     "data": {
      "text/plain": [
       "array([[ 0, 10, 20, 30, 40],\n",
       "       [ 1, 11, 21, 31, 41],\n",
       "       [ 2, 12, 22, 32, 42],\n",
       "       [ 3, 13, 23, 33, 43],\n",
       "       [ 4, 14, 24, 34, 44]])"
      ]
     },
     "execution_count": 10,
     "metadata": {},
     "output_type": "execute_result"
    }
   ],
   "source": [
    "A = np.array([[n+m*10 for n in range(5)] for m in range(5)])\n",
    "print(A)\n",
    "A.T"
   ]
  },
  {
   "cell_type": "code",
   "execution_count": 11,
   "metadata": {},
   "outputs": [
    {
     "name": "stdout",
     "output_type": "stream",
     "text": [
      "Normal matrix operations\n",
      "Matrix A:\n",
      " [[ 0  1  2  3  4]\n",
      " [10 11 12 13 14]\n",
      " [20 21 22 23 24]\n",
      " [30 31 32 33 34]\n",
      " [40 41 42 43 44]]\n",
      "Matrix v1:\n",
      " [[1]\n",
      " [2]\n",
      " [3]\n",
      " [4]\n",
      " [5]]\n"
     ]
    },
    {
     "data": {
      "text/plain": [
       "numpy.matrixlib.defmatrix.matrix"
      ]
     },
     "execution_count": 11,
     "metadata": {},
     "output_type": "execute_result"
    }
   ],
   "source": [
    "\n",
    "v1 = [1, 2, 3, 4, 5]\n",
    "#v1 = [2, 2, 2, 2, 2]\n",
    "A*v1\n",
    "\n",
    "print('Normal matrix operations')\n",
    "A_matrix = np.matrix(A)\n",
    "# Make v1 a column vector\n",
    "v1_matrix = np.matrix(v1).T\n",
    "print('Matrix A:\\n', A_matrix)\n",
    "print('Matrix v1:\\n', v1_matrix)\n",
    "type(A_matrix)"
   ]
  },
  {
   "cell_type": "code",
   "execution_count": 12,
   "metadata": {},
   "outputs": [
    {
     "data": {
      "text/plain": [
       "matrix([[ 40],\n",
       "        [190],\n",
       "        [340],\n",
       "        [490],\n",
       "        [640]])"
      ]
     },
     "execution_count": 12,
     "metadata": {},
     "output_type": "execute_result"
    }
   ],
   "source": [
    "A_matrix * v1_matrix"
   ]
  },
  {
   "cell_type": "code",
   "execution_count": 13,
   "metadata": {},
   "outputs": [
    {
     "ename": "ValueError",
     "evalue": "shapes (5,1) and (5,5) not aligned: 1 (dim 1) != 5 (dim 0)",
     "output_type": "error",
     "traceback": [
      "\u001b[0;31m---------------------------------------------------------------------------\u001b[0m",
      "\u001b[0;31mValueError\u001b[0m                                Traceback (most recent call last)",
      "\u001b[0;32m<ipython-input-13-e762da715e92>\u001b[0m in \u001b[0;36m<module>\u001b[0;34m()\u001b[0m\n\u001b[0;32m----> 1\u001b[0;31m \u001b[0mv1_matrix\u001b[0m \u001b[0;34m*\u001b[0m \u001b[0mA_matrix\u001b[0m\u001b[0;34m\u001b[0m\u001b[0m\n\u001b[0m",
      "\u001b[0;32m~/Library/Python/3.6/lib/python/site-packages/numpy/matrixlib/defmatrix.py\u001b[0m in \u001b[0;36m__mul__\u001b[0;34m(self, other)\u001b[0m\n\u001b[1;32m    307\u001b[0m         \u001b[0;32mif\u001b[0m \u001b[0misinstance\u001b[0m\u001b[0;34m(\u001b[0m\u001b[0mother\u001b[0m\u001b[0;34m,\u001b[0m \u001b[0;34m(\u001b[0m\u001b[0mN\u001b[0m\u001b[0;34m.\u001b[0m\u001b[0mndarray\u001b[0m\u001b[0;34m,\u001b[0m \u001b[0mlist\u001b[0m\u001b[0;34m,\u001b[0m \u001b[0mtuple\u001b[0m\u001b[0;34m)\u001b[0m\u001b[0;34m)\u001b[0m \u001b[0;34m:\u001b[0m\u001b[0;34m\u001b[0m\u001b[0m\n\u001b[1;32m    308\u001b[0m             \u001b[0;31m# This promotes 1-D vectors to row vectors\u001b[0m\u001b[0;34m\u001b[0m\u001b[0;34m\u001b[0m\u001b[0m\n\u001b[0;32m--> 309\u001b[0;31m             \u001b[0;32mreturn\u001b[0m \u001b[0mN\u001b[0m\u001b[0;34m.\u001b[0m\u001b[0mdot\u001b[0m\u001b[0;34m(\u001b[0m\u001b[0mself\u001b[0m\u001b[0;34m,\u001b[0m \u001b[0masmatrix\u001b[0m\u001b[0;34m(\u001b[0m\u001b[0mother\u001b[0m\u001b[0;34m)\u001b[0m\u001b[0;34m)\u001b[0m\u001b[0;34m\u001b[0m\u001b[0m\n\u001b[0m\u001b[1;32m    310\u001b[0m         \u001b[0;32mif\u001b[0m \u001b[0misscalar\u001b[0m\u001b[0;34m(\u001b[0m\u001b[0mother\u001b[0m\u001b[0;34m)\u001b[0m \u001b[0;32mor\u001b[0m \u001b[0;32mnot\u001b[0m \u001b[0mhasattr\u001b[0m\u001b[0;34m(\u001b[0m\u001b[0mother\u001b[0m\u001b[0;34m,\u001b[0m \u001b[0;34m'__rmul__'\u001b[0m\u001b[0;34m)\u001b[0m \u001b[0;34m:\u001b[0m\u001b[0;34m\u001b[0m\u001b[0m\n\u001b[1;32m    311\u001b[0m             \u001b[0;32mreturn\u001b[0m \u001b[0mN\u001b[0m\u001b[0;34m.\u001b[0m\u001b[0mdot\u001b[0m\u001b[0;34m(\u001b[0m\u001b[0mself\u001b[0m\u001b[0;34m,\u001b[0m \u001b[0mother\u001b[0m\u001b[0;34m)\u001b[0m\u001b[0;34m\u001b[0m\u001b[0m\n",
      "\u001b[0;31mValueError\u001b[0m: shapes (5,1) and (5,5) not aligned: 1 (dim 1) != 5 (dim 0)"
     ]
    }
   ],
   "source": [
    "# Will not work\n",
    "v1_matrix * A_matrix"
   ]
  },
  {
   "cell_type": "code",
   "execution_count": null,
   "metadata": {},
   "outputs": [],
   "source": []
  }
 ],
 "metadata": {
  "kernelspec": {
   "display_name": "Python 3",
   "language": "python",
   "name": "python3"
  },
  "language_info": {
   "codemirror_mode": {
    "name": "ipython",
    "version": 3
   },
   "file_extension": ".py",
   "mimetype": "text/x-python",
   "name": "python",
   "nbconvert_exporter": "python",
   "pygments_lexer": "ipython3",
   "version": "3.6.4"
  }
 },
 "nbformat": 4,
 "nbformat_minor": 2
}
